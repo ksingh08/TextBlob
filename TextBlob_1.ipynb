{
 "cells": [
  {
   "cell_type": "markdown",
   "metadata": {},
   "source": [
    "# TextBlob"
   ]
  },
  {
   "cell_type": "markdown",
   "metadata": {},
   "source": [
    "- TextBlob is a Python library use for processing textual data.\n",
    "- It provides a simple API to access its methods and perform basic NLP tasks such as part-of-speech tagging, noun phrase extraction, sentiment analysis, classification, translation, and more.\n",
    "## Install and Import Textblob\n",
    "\n",
    "Execute **pip install textblob** on Anaconda/command prompt.\n",
    "\n",
    "to import Textblob in jupyter- **from textblob import TextBlob**"
   ]
  },
  {
   "cell_type": "code",
   "execution_count": 1,
   "metadata": {},
   "outputs": [],
   "source": [
    "from textblob import TextBlob"
   ]
  },
  {
   "cell_type": "code",
   "execution_count": 2,
   "metadata": {},
   "outputs": [
    {
     "data": {
      "text/plain": [
       "'\\n       Machine learning (ML) is the scientific study of algorithms and statistical models that \\n       computer systems use to perform a specific task without using explicit instructions, \\n       relying on patterns and inference instead. It is seen as a subset of artificial intelligence.\\n       '"
      ]
     },
     "execution_count": 2,
     "metadata": {},
     "output_type": "execute_result"
    }
   ],
   "source": [
    "text = '''\n",
    "       Machine learning (ML) is the scientific study of algorithms and statistical models that \n",
    "       computer systems use to perform a specific task without using explicit instructions, \n",
    "       relying on patterns and inference instead. It is seen as a subset of artificial intelligence.\n",
    "       '''\n",
    "text"
   ]
  },
  {
   "cell_type": "code",
   "execution_count": 8,
   "metadata": {},
   "outputs": [
    {
     "data": {
      "text/plain": [
       "TextBlob(\"\n",
       "       Machine learning (ML) is the scientific study of algorithms and statistical models that \n",
       "       computer systems use to perform a specific task without using explicit instructions, \n",
       "       relying on patterns and inference instead. It is seen as a subset of artificial intelligence.\n",
       "       \")"
      ]
     },
     "execution_count": 8,
     "metadata": {},
     "output_type": "execute_result"
    }
   ],
   "source": [
    "tb = TextBlob(text)\n",
    "tb"
   ]
  },
  {
   "cell_type": "markdown",
   "metadata": {},
   "source": [
    "## Sentence\n",
    "Can Break Text into Sentence."
   ]
  },
  {
   "cell_type": "code",
   "execution_count": 18,
   "metadata": {},
   "outputs": [
    {
     "data": {
      "text/plain": [
       "[Sentence(\"\n",
       "        Machine learning (ML) is the scientific study of algorithms and statistical models that \n",
       "        computer systems use to perform a specific task without using explicit instructions, \n",
       "        relying on patterns and inference instead.\"),\n",
       " Sentence(\"It is seen as a subset of artificial intelligence.\")]"
      ]
     },
     "execution_count": 18,
     "metadata": {},
     "output_type": "execute_result"
    }
   ],
   "source": [
    "tb.sentences"
   ]
  },
  {
   "cell_type": "markdown",
   "metadata": {},
   "source": [
    "## Tokenization\n",
    "Tokenization dividing text into a sequence of **tokens** or **words**."
   ]
  },
  {
   "cell_type": "code",
   "execution_count": 7,
   "metadata": {},
   "outputs": [
    {
     "data": {
      "text/plain": [
       "WordList(['Machine', 'learning', 'ML', 'is', 'the', 'scientific', 'study', 'of', 'algorithms', 'and', 'statistical', 'models', 'that', 'computer', 'systems', 'use', 'to', 'perform', 'a', 'specific', 'task', 'without', 'using', 'explicit', 'instructions', 'relying', 'on', 'patterns', 'and', 'inference', 'instead', 'It', 'is', 'seen', 'as', 'a', 'subset', 'of', 'artificial', 'intelligence'])"
      ]
     },
     "execution_count": 7,
     "metadata": {},
     "output_type": "execute_result"
    }
   ],
   "source": [
    "tb.words"
   ]
  },
  {
   "cell_type": "markdown",
   "metadata": {},
   "source": [
    "## Word Count\n",
    "It give the Count of each words in text"
   ]
  },
  {
   "cell_type": "code",
   "execution_count": 15,
   "metadata": {},
   "outputs": [
    {
     "data": {
      "text/plain": [
       "defaultdict(int,\n",
       "            {'machine': 1,\n",
       "             'learning': 1,\n",
       "             'ml': 1,\n",
       "             'is': 2,\n",
       "             'the': 1,\n",
       "             'scientific': 1,\n",
       "             'study': 1,\n",
       "             'of': 2,\n",
       "             'algorithms': 1,\n",
       "             'and': 2,\n",
       "             'statistical': 1,\n",
       "             'models': 1,\n",
       "             'that': 1,\n",
       "             'computer': 1,\n",
       "             'systems': 1,\n",
       "             'use': 1,\n",
       "             'to': 1,\n",
       "             'perform': 1,\n",
       "             'a': 2,\n",
       "             'specific': 1,\n",
       "             'task': 1,\n",
       "             'without': 1,\n",
       "             'using': 1,\n",
       "             'explicit': 1,\n",
       "             'instructions': 1,\n",
       "             'relying': 1,\n",
       "             'on': 1,\n",
       "             'patterns': 1,\n",
       "             'inference': 1,\n",
       "             'instead': 1,\n",
       "             'it': 1,\n",
       "             'seen': 1,\n",
       "             'as': 1,\n",
       "             'subset': 1,\n",
       "             'artificial': 1,\n",
       "             'intelligence': 1})"
      ]
     },
     "execution_count": 15,
     "metadata": {},
     "output_type": "execute_result"
    }
   ],
   "source": [
    "tb.word_counts"
   ]
  },
  {
   "cell_type": "code",
   "execution_count": 13,
   "metadata": {},
   "outputs": [
    {
     "data": {
      "text/plain": [
       "defaultdict(int,\n",
       "            {'machine': 1,\n",
       "             'ml': 1,\n",
       "             'scientific study': 1,\n",
       "             'statistical models': 1,\n",
       "             'computer systems': 1,\n",
       "             'specific task': 1,\n",
       "             'explicit instructions': 1,\n",
       "             'artificial intelligence': 1})"
      ]
     },
     "execution_count": 13,
     "metadata": {},
     "output_type": "execute_result"
    }
   ],
   "source": [
    "tb.np_counts            # it return count of noun words only."
   ]
  },
  {
   "cell_type": "markdown",
   "metadata": {},
   "source": [
    "## N-grams\n",
    "A combination of multiple words together are called N-Grams.It returns a tuple of n successive words."
   ]
  },
  {
   "cell_type": "code",
   "execution_count": 6,
   "metadata": {},
   "outputs": [
    {
     "data": {
      "text/plain": [
       "[WordList(['Now', 'is']),\n",
       " WordList(['is', 'better']),\n",
       " WordList(['better', 'than']),\n",
       " WordList(['than', 'never'])]"
      ]
     },
     "execution_count": 6,
     "metadata": {},
     "output_type": "execute_result"
    }
   ],
   "source": [
    "txt = TextBlob(\"Now is better than never.\")\n",
    "txt.ngrams(n=2)"
   ]
  },
  {
   "cell_type": "markdown",
   "metadata": {},
   "source": [
    "## Converting to Upper and Lowercase\n",
    "it convert the whole sentence to upper or lower case."
   ]
  },
  {
   "cell_type": "code",
   "execution_count": 9,
   "metadata": {},
   "outputs": [
    {
     "data": {
      "text/plain": [
       "TextBlob(\"\n",
       "       MACHINE LEARNING (ML) IS THE SCIENTIFIC STUDY OF ALGORITHMS AND STATISTICAL MODELS THAT \n",
       "       COMPUTER SYSTEMS USE TO PERFORM A SPECIFIC TASK WITHOUT USING EXPLICIT INSTRUCTIONS, \n",
       "       RELYING ON PATTERNS AND INFERENCE INSTEAD. IT IS SEEN AS A SUBSET OF ARTIFICIAL INTELLIGENCE.\n",
       "       \")"
      ]
     },
     "execution_count": 9,
     "metadata": {},
     "output_type": "execute_result"
    }
   ],
   "source": [
    "tb.upper()"
   ]
  },
  {
   "cell_type": "code",
   "execution_count": 10,
   "metadata": {},
   "outputs": [
    {
     "data": {
      "text/plain": [
       "TextBlob(\"\n",
       "       machine learning (ml) is the scientific study of algorithms and statistical models that \n",
       "       computer systems use to perform a specific task without using explicit instructions, \n",
       "       relying on patterns and inference instead. it is seen as a subset of artificial intelligence.\n",
       "       \")"
      ]
     },
     "execution_count": 10,
     "metadata": {},
     "output_type": "execute_result"
    }
   ],
   "source": [
    "tb.lower()"
   ]
  },
  {
   "cell_type": "markdown",
   "metadata": {},
   "source": [
    "## Noun Phrase Extraction\n",
    "It return all noun words of text."
   ]
  },
  {
   "cell_type": "code",
   "execution_count": 8,
   "metadata": {},
   "outputs": [
    {
     "data": {
      "text/plain": [
       "WordList(['machine', 'ml', 'scientific study', 'statistical models', 'computer systems', 'specific task', 'explicit instructions', 'artificial intelligence'])"
      ]
     },
     "execution_count": 8,
     "metadata": {},
     "output_type": "execute_result"
    }
   ],
   "source": [
    "tb.noun_phrases"
   ]
  },
  {
   "cell_type": "markdown",
   "metadata": {},
   "source": [
    "## Part of speech Tagging\n",
    "It return part of speech of each word in the text Example noun, pronoun, adjective,verb,adverb etc. "
   ]
  },
  {
   "cell_type": "code",
   "execution_count": 9,
   "metadata": {},
   "outputs": [
    {
     "data": {
      "text/plain": [
       "[('Machine', 'NN'),\n",
       " ('learning', 'NN'),\n",
       " ('ML', 'NNP'),\n",
       " ('is', 'VBZ'),\n",
       " ('the', 'DT'),\n",
       " ('scientific', 'JJ'),\n",
       " ('study', 'NN'),\n",
       " ('of', 'IN'),\n",
       " ('algorithms', 'NN'),\n",
       " ('and', 'CC'),\n",
       " ('statistical', 'JJ'),\n",
       " ('models', 'NNS'),\n",
       " ('that', 'IN'),\n",
       " ('computer', 'NN'),\n",
       " ('systems', 'NNS'),\n",
       " ('use', 'VBP'),\n",
       " ('to', 'TO'),\n",
       " ('perform', 'VB'),\n",
       " ('a', 'DT'),\n",
       " ('specific', 'JJ'),\n",
       " ('task', 'NN'),\n",
       " ('without', 'IN'),\n",
       " ('using', 'VBG'),\n",
       " ('explicit', 'JJ'),\n",
       " ('instructions', 'NNS'),\n",
       " ('relying', 'VBG'),\n",
       " ('on', 'IN'),\n",
       " ('patterns', 'NNS'),\n",
       " ('and', 'CC'),\n",
       " ('inference', 'NN'),\n",
       " ('instead', 'RB'),\n",
       " ('It', 'PRP'),\n",
       " ('is', 'VBZ'),\n",
       " ('seen', 'VBN'),\n",
       " ('as', 'IN'),\n",
       " ('a', 'DT'),\n",
       " ('subset', 'NN'),\n",
       " ('of', 'IN'),\n",
       " ('artificial', 'JJ'),\n",
       " ('intelligence', 'NN')]"
      ]
     },
     "execution_count": 9,
     "metadata": {},
     "output_type": "execute_result"
    }
   ],
   "source": [
    "tb.tags  "
   ]
  },
  {
   "cell_type": "markdown",
   "metadata": {},
   "source": [
    "## Words Inflection and Lemmatization\n",
    "Inflection is a process of word formation in which characters are added to the base form of a word to express grammatical meanings."
   ]
  },
  {
   "cell_type": "code",
   "execution_count": 19,
   "metadata": {},
   "outputs": [
    {
     "data": {
      "text/plain": [
       "WordList(['is', 'scientific', 'of', 'and', 'models', 'computer', 'use', 'perform', 'specific'])"
      ]
     },
     "execution_count": 19,
     "metadata": {},
     "output_type": "execute_result"
    }
   ],
   "source": [
    "tb.words[3:20:2]           # similar as list sliceing in Python."
   ]
  },
  {
   "cell_type": "code",
   "execution_count": 18,
   "metadata": {},
   "outputs": [
    {
     "data": {
      "text/plain": [
       "WordList(['Machine', 'learning', 'ML', 'is', 'the', 'scientific', 'study', 'of', 'algorithm', 'and', 'statistical', 'model', 'that', 'computer', 'system', 'use', 'to', 'perform', 'a', 'specific'])"
      ]
     },
     "execution_count": 18,
     "metadata": {},
     "output_type": "execute_result"
    }
   ],
   "source": [
    "tb.words[:20].singularize()       # convert all words in text into its singular form."
   ]
  },
  {
   "cell_type": "code",
   "execution_count": 20,
   "metadata": {},
   "outputs": [
    {
     "data": {
      "text/plain": [
       "WordList(['Machines', 'learnings', 'MLs', 'iss', 'thes', 'scientifics', 'studies', 'ofs', 'algorithmss', 'ands', 'statisticals', 'modelss', 'those', 'computers', 'systemss', 'uses', 'toes', 'performs', 'some', 'specifics'])"
      ]
     },
     "execution_count": 20,
     "metadata": {},
     "output_type": "execute_result"
    }
   ],
   "source": [
    "tb.words[:20].pluralize()          # convert all words in text into its plural form"
   ]
  },
  {
   "cell_type": "code",
   "execution_count": 25,
   "metadata": {},
   "outputs": [
    {
     "data": {
      "text/plain": [
       "'pattern'"
      ]
     },
     "execution_count": 25,
     "metadata": {},
     "output_type": "execute_result"
    }
   ],
   "source": [
    "from textblob import Word\n",
    "w = Word(\"patterns\")\n",
    "w.lemmatize()"
   ]
  },
  {
   "cell_type": "code",
   "execution_count": 26,
   "metadata": {},
   "outputs": [
    {
     "data": {
      "text/plain": [
       "'learn'"
      ]
     },
     "execution_count": 26,
     "metadata": {},
     "output_type": "execute_result"
    }
   ],
   "source": [
    "w = Word(\"learning\")\n",
    "w.lemmatize(pos = \"v\")  # Pass in WordNet part of speech (verb)"
   ]
  },
  {
   "cell_type": "markdown",
   "metadata": {},
   "source": [
    "## WordNet Integration\n",
    "We can access the synsets for a Word via the synsets property or get_synsets."
   ]
  },
  {
   "cell_type": "code",
   "execution_count": 4,
   "metadata": {},
   "outputs": [
    {
     "data": {
      "text/plain": [
       "[Synset('octopus.n.01'), Synset('octopus.n.02')]"
      ]
     },
     "execution_count": 4,
     "metadata": {},
     "output_type": "execute_result"
    }
   ],
   "source": [
    "from textblob import Word\n",
    "from textblob.wordnet import VERB\n",
    "word = Word(\"octopus\")\n",
    "word.synsets"
   ]
  },
  {
   "cell_type": "code",
   "execution_count": 11,
   "metadata": {},
   "outputs": [
    {
     "data": {
      "text/plain": [
       "[Synset('travel.v.01'),\n",
       " Synset('go.v.02'),\n",
       " Synset('go.v.03'),\n",
       " Synset('become.v.01'),\n",
       " Synset('go.v.05'),\n",
       " Synset('run.v.05'),\n",
       " Synset('run.v.03'),\n",
       " Synset('proceed.v.04'),\n",
       " Synset('go.v.09'),\n",
       " Synset('go.v.10'),\n",
       " Synset('sound.v.02'),\n",
       " Synset('function.v.01'),\n",
       " Synset('run_low.v.01'),\n",
       " Synset('move.v.13'),\n",
       " Synset('survive.v.01'),\n",
       " Synset('go.v.16'),\n",
       " Synset('die.v.01'),\n",
       " Synset('belong.v.03'),\n",
       " Synset('go.v.19'),\n",
       " Synset('start.v.09'),\n",
       " Synset('move.v.15'),\n",
       " Synset('go.v.22'),\n",
       " Synset('go.v.23'),\n",
       " Synset('blend.v.02'),\n",
       " Synset('go.v.25'),\n",
       " Synset('fit.v.02'),\n",
       " Synset('rifle.v.02'),\n",
       " Synset('go.v.28'),\n",
       " Synset('plump.v.04'),\n",
       " Synset('fail.v.04')]"
      ]
     },
     "execution_count": 11,
     "metadata": {},
     "output_type": "execute_result"
    }
   ],
   "source": [
    "Word(\"go\").get_synsets(pos=VERB)"
   ]
  },
  {
   "cell_type": "markdown",
   "metadata": {},
   "source": [
    "### Word Definition\n",
    "we can access the definitions for each synset via the definitions property. "
   ]
  },
  {
   "cell_type": "code",
   "execution_count": 12,
   "metadata": {},
   "outputs": [
    {
     "data": {
      "text/plain": [
       "['the act of bringing something to bear; using it for a particular purpose',\n",
       " 'a verbal or written request for assistance or employment or admission to a school',\n",
       " 'the work of applying something',\n",
       " 'a program that gives a computer instructions that provide the user with tools to accomplish a task',\n",
       " 'liquid preparation having a soothing or antiseptic or medicinal action when applied to the skin',\n",
       " 'a diligent effort',\n",
       " 'the action of putting something into operation']"
      ]
     },
     "execution_count": 12,
     "metadata": {},
     "output_type": "execute_result"
    }
   ],
   "source": [
    "Word(\"application\").definitions"
   ]
  },
  {
   "cell_type": "code",
   "execution_count": 14,
   "metadata": {},
   "outputs": [
    {
     "data": {
      "text/plain": [
       "['change location; move, travel, or proceed, also metaphorically',\n",
       " 'follow a procedure or take a course',\n",
       " 'move away from a place into another direction',\n",
       " 'enter or assume a certain state or condition',\n",
       " 'be awarded; be allotted',\n",
       " 'have a particular form',\n",
       " 'stretch out over a distance, space, time, or scope; run or extend between two points or beyond a certain point',\n",
       " 'follow a certain course',\n",
       " 'be abolished or discarded',\n",
       " 'be or continue to be in a certain condition',\n",
       " 'make a certain noise or sound',\n",
       " 'perform as expected when applied',\n",
       " 'to be spent or finished',\n",
       " 'progress by being changed',\n",
       " 'continue to live through hardship or adversity',\n",
       " 'pass, fare, or elapse; of a certain state of affairs or action',\n",
       " 'pass from physical life and lose all bodily attributes and functions necessary to sustain life',\n",
       " 'be in the right place or situation',\n",
       " 'be ranked or compare',\n",
       " 'begin or set in motion',\n",
       " \"have a turn; make one's move in a game\",\n",
       " 'be contained in',\n",
       " 'be sounded, played, or expressed',\n",
       " 'blend or harmonize',\n",
       " 'lead, extend, or afford access',\n",
       " 'be the right size or shape; fit correctly or as desired',\n",
       " \"go through in search of something; search through someone's belongings in an unauthorized way\",\n",
       " 'be spent',\n",
       " 'give support (to) or make a choice (of) one out of a group or number',\n",
       " 'stop operating or functioning']"
      ]
     },
     "execution_count": 14,
     "metadata": {},
     "output_type": "execute_result"
    }
   ],
   "source": [
    "Word(\"go\").define(pos = VERB)"
   ]
  },
  {
   "cell_type": "markdown",
   "metadata": {},
   "source": [
    "## Spelling Correction\n",
    "Use the **correct()** method to attempt spelling correction."
   ]
  },
  {
   "cell_type": "code",
   "execution_count": 16,
   "metadata": {},
   "outputs": [
    {
     "name": "stdout",
     "output_type": "stream",
     "text": [
      "I have good spelling!\n"
     ]
    }
   ],
   "source": [
    "msg = TextBlob('I havv godo speling!')\n",
    "print(msg.correct())"
   ]
  },
  {
   "cell_type": "markdown",
   "metadata": {},
   "source": [
    "For Word object **Word.spellcheck()** method use for spelling correction.It returns a list of (word, confidence) tuples with spelling suggestions."
   ]
  },
  {
   "cell_type": "code",
   "execution_count": 17,
   "metadata": {},
   "outputs": [
    {
     "data": {
      "text/plain": [
       "[('understand', 0.6498422712933754), ('understood', 0.3501577287066246)]"
      ]
     },
     "execution_count": 17,
     "metadata": {},
     "output_type": "execute_result"
    }
   ],
   "source": [
    "from textblob import Word\n",
    "w = Word('undarstond')\n",
    "w.spellcheck()"
   ]
  },
  {
   "cell_type": "markdown",
   "metadata": {},
   "source": [
    "## Translation and Language Detection\n",
    "To translate text from one language to another, you simply have to pass the text to the TextBlob object and then call the translate method on the object."
   ]
  },
  {
   "cell_type": "code",
   "execution_count": 19,
   "metadata": {},
   "outputs": [
    {
     "data": {
      "text/plain": [
       "TextBlob(\"El aprendizaje automático (ML) es el estudio científico de algoritmos y modelos estadísticos que\n",
       "       los sistemas informáticos usan para realizar una tarea específica sin usar instrucciones explícitas,\n",
       "       confiando en patrones e inferencia en su lugar. Es visto como un subconjunto de inteligencia artificial.\")"
      ]
     },
     "execution_count": 19,
     "metadata": {},
     "output_type": "execute_result"
    }
   ],
   "source": [
    "tb.translate(to=\"es\")"
   ]
  },
  {
   "cell_type": "code",
   "execution_count": 20,
   "metadata": {},
   "outputs": [
    {
     "data": {
      "text/plain": [
       "TextBlob(\"Beauty is better than ugly\")"
      ]
     },
     "execution_count": 20,
     "metadata": {},
     "output_type": "execute_result"
    }
   ],
   "source": [
    "chinese_blob = TextBlob(u\"美丽优于丑陋\")\n",
    "chinese_blob.translate(from_lang=\"zh-CN\", to='en')"
   ]
  },
  {
   "cell_type": "code",
   "execution_count": 21,
   "metadata": {},
   "outputs": [
    {
     "data": {
      "text/plain": [
       "TextBlob(\"मशीन लर्निंग (एमएल) एल्गोरिदम और सांख्यिकीय मॉडल का वैज्ञानिक अध्ययन है\n",
       "       कंप्यूटर सिस्टम स्पष्ट निर्देशों का उपयोग किए बिना एक विशिष्ट कार्य करने के लिए उपयोग करते हैं,\n",
       "       इसके बजाय पैटर्न और अनुमान पर भरोसा करना। इसे कृत्रिम बुद्धिमत्ता के सबसेट के रूप में देखा जाता है।\")"
      ]
     },
     "execution_count": 21,
     "metadata": {},
     "output_type": "execute_result"
    }
   ],
   "source": [
    "tb.translate(from_lang = 'en', to = 'hi')"
   ]
  },
  {
   "cell_type": "markdown",
   "metadata": {},
   "source": [
    "**If no source language is specified, TextBlob will attempt to detect the language.**"
   ]
  },
  {
   "cell_type": "code",
   "execution_count": 22,
   "metadata": {},
   "outputs": [
    {
     "data": {
      "text/plain": [
       "'ar'"
      ]
     },
     "execution_count": 22,
     "metadata": {},
     "output_type": "execute_result"
    }
   ],
   "source": [
    "b = TextBlob(u\"بسيط هو أفضل من مجمع\")\n",
    "b.detect_language()"
   ]
  },
  {
   "cell_type": "code",
   "execution_count": null,
   "metadata": {},
   "outputs": [],
   "source": []
  }
 ],
 "metadata": {
  "kernelspec": {
   "display_name": "Python 3",
   "language": "python",
   "name": "python3"
  },
  "language_info": {
   "codemirror_mode": {
    "name": "ipython",
    "version": 3
   },
   "file_extension": ".py",
   "mimetype": "text/x-python",
   "name": "python",
   "nbconvert_exporter": "python",
   "pygments_lexer": "ipython3",
   "version": "3.7.3"
  }
 },
 "nbformat": 4,
 "nbformat_minor": 2
}
